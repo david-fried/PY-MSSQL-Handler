from sql_database import SQLDatabase
import pandas as pd


#Server name changed
connection_string = r'Driver={ODBC Driver 17 for SQL Server}; Server=LAPTOP-U92BNK27; Database=PYMSSQLHandler; Trusted_Connection=yes;'


sql_database = SQLDatabase(connection_string)


sql_database.execute("""
CREATE TABLE Employees
(
ID INT IDENTITY PRIMARY KEY
,LastName NVARCHAR(50)
,FirstName NVARCHAR(50)
,JobTitle NVARCHAR(25)
,Salary DECIMAL(19, 4)
);
""")


employees = pd.DataFrame({
    'LastName': ['Newman', 'Michaelson', 'Smith'],
    'FirstName': ['Bob', 'John', 'Donny'],
    'JobTitle': ['Data Scientist', 'Accountant', 'Librarian'],
    'Salary': [110000.00, 95000.00, 67000.00]
})
employees


sql_database.bulk_insert(employees, 'Employees')
sql_database.query('SELECT * FROM Employees')


sql_database.execute("""
CREATE OR ALTER PROCEDURE uspAddNewEmployee
    @LastName NVARCHAR(50),
    @FirstName NVARCHAR(50)
AS
BEGIN
    INSERT INTO Employees
    (LastName, FirstName)
    Values
    (@LastName, @FirstName)
END;
"""
)


sql_database.execute('EXEC uspAddNewEmployee @LastName=?, @FirstName=?', 'Summers', 'Donna')
sql_database.query('SELECT * FROM Employees')
