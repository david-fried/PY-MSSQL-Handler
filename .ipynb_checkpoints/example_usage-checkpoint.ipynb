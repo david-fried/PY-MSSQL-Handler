{
 "cells": [
  {
   "cell_type": "code",
   "execution_count": 1,
   "id": "a704d502-0962-430a-b8af-b2bafe076574",
   "metadata": {},
   "outputs": [],
   "source": [
    "from sql_database import SQLDatabase\n",
    "import pandas as pd"
   ]
  },
  {
   "cell_type": "code",
   "execution_count": 17,
   "id": "cc76e2b1-9aa2-4ad4-a99b-ebc8d6c928fc",
   "metadata": {},
   "outputs": [],
   "source": [
    "#Server name changed\n",
    "connection_string = r'Driver={ODBC Driver 17 for SQL Server}; Server=LAPTOP-U92BNK27; Database=PYMSSQLHandler; Trusted_Connection=yes;'"
   ]
  },
  {
   "cell_type": "code",
   "execution_count": 3,
   "id": "d57ff753-c56f-4b5f-8b45-52896088e0e3",
   "metadata": {},
   "outputs": [],
   "source": [
    "sql_database = SQLDatabase(connection_string)"
   ]
  },
  {
   "cell_type": "code",
   "execution_count": 4,
   "id": "57d410cb-1d97-4d43-be4f-d2d2bab10c6a",
   "metadata": {},
   "outputs": [],
   "source": [
    "sql_database.execute(\"\"\"\n",
    "CREATE TABLE Employees\n",
    "(\n",
    "ID INT IDENTITY PRIMARY KEY\n",
    ",LastName NVARCHAR(50)\n",
    ",FirstName NVARCHAR(50)\n",
    ",JobTitle NVARCHAR(25)\n",
    ",Salary DECIMAL(19, 4)\n",
    ");\n",
    "\"\"\")"
   ]
  },
  {
   "cell_type": "code",
   "execution_count": 5,
   "id": "ef9559d2-df5b-4c05-98e8-5fafb09e08f6",
   "metadata": {},
   "outputs": [
    {
     "data": {
      "text/html": [
       "<div>\n",
       "<style scoped>\n",
       "    .dataframe tbody tr th:only-of-type {\n",
       "        vertical-align: middle;\n",
       "    }\n",
       "\n",
       "    .dataframe tbody tr th {\n",
       "        vertical-align: top;\n",
       "    }\n",
       "\n",
       "    .dataframe thead th {\n",
       "        text-align: right;\n",
       "    }\n",
       "</style>\n",
       "<table border=\"1\" class=\"dataframe\">\n",
       "  <thead>\n",
       "    <tr style=\"text-align: right;\">\n",
       "      <th></th>\n",
       "      <th>LastName</th>\n",
       "      <th>FirstName</th>\n",
       "      <th>JobTitle</th>\n",
       "      <th>Salary</th>\n",
       "    </tr>\n",
       "  </thead>\n",
       "  <tbody>\n",
       "    <tr>\n",
       "      <th>0</th>\n",
       "      <td>Newman</td>\n",
       "      <td>Bob</td>\n",
       "      <td>Data Scientist</td>\n",
       "      <td>110000.0</td>\n",
       "    </tr>\n",
       "    <tr>\n",
       "      <th>1</th>\n",
       "      <td>Michaelson</td>\n",
       "      <td>John</td>\n",
       "      <td>Accountant</td>\n",
       "      <td>95000.0</td>\n",
       "    </tr>\n",
       "    <tr>\n",
       "      <th>2</th>\n",
       "      <td>Smith</td>\n",
       "      <td>Donny</td>\n",
       "      <td>Librarian</td>\n",
       "      <td>67000.0</td>\n",
       "    </tr>\n",
       "  </tbody>\n",
       "</table>\n",
       "</div>"
      ],
      "text/plain": [
       "     LastName FirstName        JobTitle    Salary\n",
       "0      Newman       Bob  Data Scientist  110000.0\n",
       "1  Michaelson      John      Accountant   95000.0\n",
       "2       Smith     Donny       Librarian   67000.0"
      ]
     },
     "execution_count": 5,
     "metadata": {},
     "output_type": "execute_result"
    }
   ],
   "source": [
    "employees = pd.DataFrame({\n",
    "    'LastName': ['Newman', 'Michaelson', 'Smith'],\n",
    "    'FirstName': ['Bob', 'John', 'Donny'],\n",
    "    'JobTitle': ['Data Scientist', 'Accountant', 'Librarian'],\n",
    "    'Salary': [110000.00, 95000.00, 67000.00]\n",
    "})\n",
    "employees"
   ]
  },
  {
   "cell_type": "code",
   "execution_count": 6,
   "id": "d7453028-ac27-45e8-a6fc-588c1ce1d908",
   "metadata": {},
   "outputs": [
    {
     "data": {
      "text/html": [
       "<div>\n",
       "<style scoped>\n",
       "    .dataframe tbody tr th:only-of-type {\n",
       "        vertical-align: middle;\n",
       "    }\n",
       "\n",
       "    .dataframe tbody tr th {\n",
       "        vertical-align: top;\n",
       "    }\n",
       "\n",
       "    .dataframe thead th {\n",
       "        text-align: right;\n",
       "    }\n",
       "</style>\n",
       "<table border=\"1\" class=\"dataframe\">\n",
       "  <thead>\n",
       "    <tr style=\"text-align: right;\">\n",
       "      <th></th>\n",
       "      <th>ID</th>\n",
       "      <th>LastName</th>\n",
       "      <th>FirstName</th>\n",
       "      <th>JobTitle</th>\n",
       "      <th>Salary</th>\n",
       "    </tr>\n",
       "  </thead>\n",
       "  <tbody>\n",
       "    <tr>\n",
       "      <th>0</th>\n",
       "      <td>1</td>\n",
       "      <td>Newman</td>\n",
       "      <td>Bob</td>\n",
       "      <td>Data Scientist</td>\n",
       "      <td>110000.0</td>\n",
       "    </tr>\n",
       "    <tr>\n",
       "      <th>1</th>\n",
       "      <td>2</td>\n",
       "      <td>Michaelson</td>\n",
       "      <td>John</td>\n",
       "      <td>Accountant</td>\n",
       "      <td>95000.0</td>\n",
       "    </tr>\n",
       "    <tr>\n",
       "      <th>2</th>\n",
       "      <td>3</td>\n",
       "      <td>Smith</td>\n",
       "      <td>Donny</td>\n",
       "      <td>Librarian</td>\n",
       "      <td>67000.0</td>\n",
       "    </tr>\n",
       "  </tbody>\n",
       "</table>\n",
       "</div>"
      ],
      "text/plain": [
       "   ID    LastName FirstName        JobTitle    Salary\n",
       "0   1      Newman       Bob  Data Scientist  110000.0\n",
       "1   2  Michaelson      John      Accountant   95000.0\n",
       "2   3       Smith     Donny       Librarian   67000.0"
      ]
     },
     "execution_count": 6,
     "metadata": {},
     "output_type": "execute_result"
    }
   ],
   "source": [
    "sql_database.bulk_insert(employees, 'Employees')\n",
    "sql_database.query('SELECT * FROM Employees')"
   ]
  },
  {
   "cell_type": "code",
   "execution_count": 7,
   "id": "6837d5fc-36ab-40b9-b322-896290a2832f",
   "metadata": {},
   "outputs": [],
   "source": [
    "sql_database.execute(\"\"\"\n",
    "CREATE OR ALTER PROCEDURE uspAddNewEmployee\n",
    "    @LastName NVARCHAR(50),\n",
    "    @FirstName NVARCHAR(50)\n",
    "AS\n",
    "BEGIN\n",
    "    INSERT INTO Employees\n",
    "    (LastName, FirstName)\n",
    "    Values\n",
    "    (@LastName, @FirstName)\n",
    "END;\n",
    "\"\"\"\n",
    ")"
   ]
  },
  {
   "cell_type": "code",
   "execution_count": 8,
   "id": "1b904466-14cd-4f6d-b532-0a1007b1690a",
   "metadata": {},
   "outputs": [
    {
     "data": {
      "text/html": [
       "<div>\n",
       "<style scoped>\n",
       "    .dataframe tbody tr th:only-of-type {\n",
       "        vertical-align: middle;\n",
       "    }\n",
       "\n",
       "    .dataframe tbody tr th {\n",
       "        vertical-align: top;\n",
       "    }\n",
       "\n",
       "    .dataframe thead th {\n",
       "        text-align: right;\n",
       "    }\n",
       "</style>\n",
       "<table border=\"1\" class=\"dataframe\">\n",
       "  <thead>\n",
       "    <tr style=\"text-align: right;\">\n",
       "      <th></th>\n",
       "      <th>ID</th>\n",
       "      <th>LastName</th>\n",
       "      <th>FirstName</th>\n",
       "      <th>JobTitle</th>\n",
       "      <th>Salary</th>\n",
       "    </tr>\n",
       "  </thead>\n",
       "  <tbody>\n",
       "    <tr>\n",
       "      <th>0</th>\n",
       "      <td>1</td>\n",
       "      <td>Newman</td>\n",
       "      <td>Bob</td>\n",
       "      <td>Data Scientist</td>\n",
       "      <td>110000.0</td>\n",
       "    </tr>\n",
       "    <tr>\n",
       "      <th>1</th>\n",
       "      <td>2</td>\n",
       "      <td>Michaelson</td>\n",
       "      <td>John</td>\n",
       "      <td>Accountant</td>\n",
       "      <td>95000.0</td>\n",
       "    </tr>\n",
       "    <tr>\n",
       "      <th>2</th>\n",
       "      <td>3</td>\n",
       "      <td>Smith</td>\n",
       "      <td>Donny</td>\n",
       "      <td>Librarian</td>\n",
       "      <td>67000.0</td>\n",
       "    </tr>\n",
       "    <tr>\n",
       "      <th>3</th>\n",
       "      <td>4</td>\n",
       "      <td>Summers</td>\n",
       "      <td>Donna</td>\n",
       "      <td>None</td>\n",
       "      <td>NaN</td>\n",
       "    </tr>\n",
       "  </tbody>\n",
       "</table>\n",
       "</div>"
      ],
      "text/plain": [
       "   ID    LastName FirstName        JobTitle    Salary\n",
       "0   1      Newman       Bob  Data Scientist  110000.0\n",
       "1   2  Michaelson      John      Accountant   95000.0\n",
       "2   3       Smith     Donny       Librarian   67000.0\n",
       "3   4     Summers     Donna            None       NaN"
      ]
     },
     "execution_count": 8,
     "metadata": {},
     "output_type": "execute_result"
    }
   ],
   "source": [
    "sql_database.execute('EXEC uspAddNewEmployee @LastName=?, @FirstName=?', 'Summers', 'Donna')\n",
    "sql_database.query('SELECT * FROM Employees')"
   ]
  }
 ],
 "metadata": {
  "kernelspec": {
   "display_name": "Python 3 (ipykernel)",
   "language": "python",
   "name": "python3"
  },
  "language_info": {
   "codemirror_mode": {
    "name": "ipython",
    "version": 3
   },
   "file_extension": ".py",
   "mimetype": "text/x-python",
   "name": "python",
   "nbconvert_exporter": "python",
   "pygments_lexer": "ipython3",
   "version": "3.12.4"
  }
 },
 "nbformat": 4,
 "nbformat_minor": 5
}
